{
 "cells": [
  {
   "cell_type": "code",
   "execution_count": null,
   "metadata": {},
   "outputs": [],
   "source": [
    "# Carbon dioxide (CO₂) dissolution in seawater\n",
    "\n",
    "<p class=\"acknowledgement\">Written by Svetlana Kyas (ETH Zurich) on Mar 31th, 2022.<br>Last revised on March 31st, 2023 by Allan Leal.</p>\n",
    "\n",
    "```{attention}\n",
    "Always make sure you are using the [latest version of Reaktoro](https://anaconda.org/conda-forge/reaktoro). Otherwise, some new features documented on this website will not work on your machine and you may receive unintuitive errors. Follow these [update instructions](updating_reaktoro_via_conda) to get the latest version of Reaktoro!\n",
    "```\n",
    "\n",
    "Ocean acidification remains a significant problem resulting from human activities, primarily the burning of fossil fuels. As atmospheric carbon dioxide levels increase, the ocean absorbs more carbon dioxide, triggering a series of chemical reactions in seawater that have a negative impact on the ocean and its inhabitants. These reactions can lead to a decrease in the production of calcium carbonate shells in bivalves and other aquatic organisms, as well as a range of other physiological challenges for marine organisms. This reduction in shell production has implications for the entire ocean food chain, as many species rely on these shells for protection and as a food source. Therefore, addressing ocean acidification is critical for the health and sustainability of ocean ecosystems.\n",
    "\n",
    "This tutorial demonstrates the use of Reaktoro for modeling ocean acidification, by computing the pH of a seawater solution for increasing concentrations of dissolved CO₂. \n",
    "\n",
    "|![The CO2 cycle between the atmosphere and the ocean](../../images/applications/co2-pump-ocean-acidification.png)|\n",
    "|:--:|\n",
    "|The CO2 cycle between the atmosphere and the ocean, Source: wikipedia.org|\n",
    "\n",
    "We start by defining the chemical system containing aqueous and gaseous phases.  "
   ]
  },
  {
   "cell_type": "code",
   "execution_count": null,
   "metadata": {},
   "outputs": [],
   "source": [
    "from reaktoro import *\n",
    "import pandas as pd\n",
    "\n",
    "db = SupcrtDatabase(\"supcrtbl\")\n",
    "\n",
    "# Create an aqueous phase automatically selecting all species with provided elements\n",
    "aqueousphase = AqueousPhase(speciate(\"H O C Ca Mg K Cl Na S N\"))\n",
    "aqueousphase.set(chain(\n",
    "    ActivityModelHKF(),\n",
    "    ActivityModelDrummond(\"CO2\"),\n",
    "))\n",
    "\n",
    "# Create a gaseous phase\n",
    "gaseousphase = GaseousPhase(\"CO2(g)\")\n",
    "gaseousphase.set(ActivityModelPengRobinson())\n",
    "\n",
    "# Create the chemical system\n",
    "system = ChemicalSystem(db, aqueousphase, gaseousphase)\n",
    "\n",
    "# Create the equilibrium solver\n",
    "solver = EquilibriumSolver(system)"
   ]
  },
  {
   "cell_type": "code",
   "execution_count": null,
   "metadata": {},
   "outputs": [],
   "source": [
    "Next, we initialize the chemical state corresponding to the seawater content, equilibrate it, and evaluate the pH level obtained after equilibration:"
   ]
  },
  {
   "cell_type": "code",
   "execution_count": null,
   "metadata": {},
   "outputs": [],
   "source": [
    "state = ChemicalState(system)\n",
    "state.setTemperature(25, \"celsius\")\n",
    "state.setPressure(1.0, \"bar\")\n",
    "state.add(\"H2O(aq)\",      1.0, \"kg\")\n",
    "state.add(\"Ca+2\" ,   412.3, \"mg\")\n",
    "state.add(\"Mg+2\" ,  1290.0, \"mg\")\n",
    "state.add(\"Na+\"  , 10768.0, \"mg\")\n",
    "state.add(\"K+\"   ,   399.1, \"mg\")\n",
    "state.add(\"Cl-\"  , 19353.0, \"mg\")\n",
    "state.add(\"HCO3-\",   141.7, \"mg\")\n",
    "state.add(\"SO4-2\",  2712.0, \"mg\")\n",
    "\n",
    "solver.solve(state)\n",
    "\n",
    "aprops = AqueousProps(state)\n",
    "print(\"pH of seawater = \", float(aprops.pH()))"
   ]
  },
  {
   "cell_type": "code",
   "execution_count": null,
   "metadata": {},
   "outputs": [],
   "source": [
    "Finally, we define the auxiliary variables with the initial values of the CO<sub>2</sub> amount and its increment. We run the loop with `nsteps` steps adding CO<sub>2</sub> into seawater and re-equilibrate it again. We collect the amount of added carbon dioxide and the corresponding pH value in `pandas.DataFrame`."
   ]
  },
  {
   "cell_type": "code",
   "execution_count": null,
   "metadata": {},
   "outputs": [],
   "source": [
    "co2_0 = 0.0\n",
    "co2_delta = 0.1\n",
    "nsteps = 50\n",
    "\n",
    "df = pd.DataFrame(columns=[\"amountCO2\", \"pH\"])\n",
    "df.loc[len(df)] = [co2_0, float(aprops.pH())]\n",
    "\n",
    "for i in range(nsteps):\n",
    "\n",
    "    # Add more CO2 to the problem\n",
    "    state.add(\"CO2(g)\", co2_delta, \"mmol\")\n",
    "\n",
    "    # Equilibrate state with updated problem\n",
    "    solver.solve(state)\n",
    "\n",
    "    # Update aqueous properties\n",
    "    aprops.update(state)\n",
    "\n",
    "    # Update CO2 amount\n",
    "    co2_0 += co2_delta\n",
    "\n",
    "    # Append new calculated value to the dataframe\n",
    "    df.loc[len(df)] = [co2_0, float(aprops.pH())]"
   ]
  },
  {
   "cell_type": "code",
   "execution_count": null,
   "metadata": {},
   "outputs": [],
   "source": [
    "We plot below pH as a function of the added amount of CO<sub>2</sub> into the seawater."
   ]
  },
  {
   "cell_type": "code",
   "execution_count": null,
   "metadata": {},
   "outputs": [],
   "source": [
    "from reaktplot import *\n",
    "\n",
    "fig = Figure()\n",
    "fig.title(\"PH DEPENDENCE ON AMOUNT OF ADDED CO2 TO THE SEAWATER\")\n",
    "fig.xaxisTitle('CO2 [mmol]')\n",
    "fig.yaxisTitle('pH')\n",
    "fig.drawLineWithMarkers(df[\"amountCO2\"], df[\"pH\"], name=\"\")\n",
    "\n",
    "fig.show()"
   ]
  }
 ],
 "metadata": {
  "language_info": {
   "name": "python"
  }
 },
 "nbformat": 4,
 "nbformat_minor": 2
}
